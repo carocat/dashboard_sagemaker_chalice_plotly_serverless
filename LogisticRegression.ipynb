{
 "cells": [
  {
   "cell_type": "markdown",
   "metadata": {},
   "source": [
    "# Logistic Regression "
   ]
  },
  {
   "cell_type": "code",
   "execution_count": 5,
   "metadata": {},
   "outputs": [],
   "source": [
    "DATA_DIR = 'data'"
   ]
  },
  {
   "cell_type": "code",
   "execution_count": 1,
   "metadata": {},
   "outputs": [],
   "source": [
    "from pyspark.sql import *\n",
    "from pyspark.sql.types import *\n",
    "from pyspark.ml import Pipeline\n",
    "from pyspark.ml.tuning import TrainValidationSplit\n",
    "import os"
   ]
  },
  {
   "cell_type": "code",
   "execution_count": 104,
   "metadata": {},
   "outputs": [],
   "source": [
    "#creating spark session\n",
    "spark = SparkSession.builder.appName('sentimentAnalysis').getOrCreate()"
   ]
  },
  {
   "cell_type": "code",
   "execution_count": 7,
   "metadata": {},
   "outputs": [],
   "source": [
    "pre_processed_train_data = spark.read.parquet(os.path.join(DATA_DIR, 'train.parquet'))"
   ]
  },
  {
   "cell_type": "code",
   "execution_count": 92,
   "metadata": {},
   "outputs": [
    {
     "name": "stdout",
     "output_type": "stream",
     "text": [
      "root\n",
      " |-- label: integer (nullable = true)\n",
      " |-- text: string (nullable = true)\n",
      " |-- data_prep: array (nullable = true)\n",
      " |    |-- element: string (containsNull = true)\n",
      " |-- ngrams: array (nullable = true)\n",
      " |    |-- element: string (containsNull = true)\n",
      " |-- count_vect: vector (nullable = true)\n",
      " |-- features: vector (nullable = true)\n",
      "\n"
     ]
    }
   ],
   "source": [
    "pre_processed_train_data.printSchema()"
   ]
  },
  {
   "cell_type": "markdown",
   "metadata": {},
   "source": [
    "Let's test some parameters, so we can chose the ones we will use int the model afterwards"
   ]
  },
  {
   "cell_type": "code",
   "execution_count": 54,
   "metadata": {},
   "outputs": [
    {
     "name": "stdout",
     "output_type": "stream",
     "text": [
      "CPU times: user 2.39 s, sys: 581 ms, total: 2.97 s\n",
      "Wall time: 3min 31s\n"
     ]
    }
   ],
   "source": [
    "%%time \n",
    "\n",
    "from pyspark.ml import Pipeline\n",
    "from pyspark.ml.classification import LogisticRegression\n",
    "from pyspark.ml.evaluation import BinaryClassificationEvaluator\n",
    "from pyspark.ml.tuning import CrossValidator, ParamGridBuilder\n",
    "\n",
    "rdc = LogisticRegression()\n",
    "\n",
    "paramGrid = ParamGridBuilder().addGrid(rdc.maxIter, [5, 10, 15])\\\n",
    "                              .addGrid(rdc.regParam, [0.0001, 0.001, 0.0005])\\\n",
    "                              .addGrid(rdc.elasticNetParam, [0.2, 0.3, 0.4])\\\n",
    "                              .build()\n",
    "evaluator = BinaryClassificationEvaluator()\n",
    "valid = TrainValidationSplit(estimator = rdc,\n",
    "                             estimatorParamMaps=paramGrid,\n",
    "                             evaluator = evaluator,\n",
    "                             trainRatio = 0.50)\n",
    "model = valid.fit(pre_processed_train_data)\n",
    "best_model = model.bestModel\n",
    "result = best_model.transform(pre_processed_train_data)"
   ]
  },
  {
   "cell_type": "code",
   "execution_count": 29,
   "metadata": {},
   "outputs": [],
   "source": [
    "def evaluate(result):\n",
    "    predictionAndLabels = result\n",
    "    metrics = [\"areaUnderROC\",\"areaUnderPR\"]\n",
    "    for m in metrics:\n",
    "        evaluator = BinaryClassificationEvaluator(metricName=m)\n",
    "        print(str(m) + \": \" + str(evaluator.evaluate(predictionAndLabels)))"
   ]
  },
  {
   "cell_type": "code",
   "execution_count": 99,
   "metadata": {},
   "outputs": [
    {
     "name": "stdout",
     "output_type": "stream",
     "text": [
      "areaUnderROC: 0.7853881807440036\n",
      "areaUnderPR: 0.7817562182134117\n"
     ]
    }
   ],
   "source": [
    "evaluate(result)"
   ]
  },
  {
   "cell_type": "code",
   "execution_count": 97,
   "metadata": {},
   "outputs": [
    {
     "data": {
      "text/plain": [
       "{Param(parent='LogisticRegression_6595ef6781f7', name='aggregationDepth', doc='suggested depth for treeAggregate (>= 2)'): 2,\n",
       " Param(parent='LogisticRegression_6595ef6781f7', name='elasticNetParam', doc='the ElasticNet mixing parameter, in range [0, 1]. For alpha = 0, the penalty is an L2 penalty. For alpha = 1, it is an L1 penalty'): 0.3,\n",
       " Param(parent='LogisticRegression_6595ef6781f7', name='family', doc='The name of family which is a description of the label distribution to be used in the model. Supported options: auto, binomial, multinomial.'): 'auto',\n",
       " Param(parent='LogisticRegression_6595ef6781f7', name='featuresCol', doc='features column name'): 'features',\n",
       " Param(parent='LogisticRegression_6595ef6781f7', name='fitIntercept', doc='whether to fit an intercept term'): True,\n",
       " Param(parent='LogisticRegression_6595ef6781f7', name='labelCol', doc='label column name'): 'label',\n",
       " Param(parent='LogisticRegression_6595ef6781f7', name='maxIter', doc='maximum number of iterations (>= 0)'): 10,\n",
       " Param(parent='LogisticRegression_6595ef6781f7', name='predictionCol', doc='prediction column name'): 'prediction',\n",
       " Param(parent='LogisticRegression_6595ef6781f7', name='probabilityCol', doc='Column name for predicted class conditional probabilities. Note: Not all models output well-calibrated probability estimates! These probabilities should be treated as confidences, not precise probabilities'): 'probability',\n",
       " Param(parent='LogisticRegression_6595ef6781f7', name='rawPredictionCol', doc='raw prediction (a.k.a. confidence) column name'): 'rawPrediction',\n",
       " Param(parent='LogisticRegression_6595ef6781f7', name='regParam', doc='regularization parameter (>= 0)'): 0.001,\n",
       " Param(parent='LogisticRegression_6595ef6781f7', name='standardization', doc='whether to standardize the training features before fitting the model'): True,\n",
       " Param(parent='LogisticRegression_6595ef6781f7', name='threshold', doc='threshold in binary classification prediction, in range [0, 1]'): 0.5,\n",
       " Param(parent='LogisticRegression_6595ef6781f7', name='tol', doc='the convergence tolerance for iterative algorithms (>= 0)'): 1e-06}"
      ]
     },
     "execution_count": 97,
     "metadata": {},
     "output_type": "execute_result"
    }
   ],
   "source": [
    "best_model.extractParamMap()"
   ]
  },
  {
   "cell_type": "code",
   "execution_count": 57,
   "metadata": {},
   "outputs": [
    {
     "data": {
      "text/plain": [
       "{Param(parent='TrainValidationSplitModel_72e0bb3e2657', name='seed', doc='random seed.'): 1215852686270291499,\n",
       " Param(parent='TrainValidationSplitModel_72e0bb3e2657', name='estimator', doc='estimator to be cross-validated'): LogisticRegression_34e71a7cd7bf,\n",
       " Param(parent='TrainValidationSplitModel_72e0bb3e2657', name='estimatorParamMaps', doc='estimator param maps'): [{Param(parent='LogisticRegression_34e71a7cd7bf', name='maxIter', doc='max number of iterations (>= 0).'): 5,\n",
       "   Param(parent='LogisticRegression_34e71a7cd7bf', name='regParam', doc='regularization parameter (>= 0).'): 0.0001,\n",
       "   Param(parent='LogisticRegression_34e71a7cd7bf', name='elasticNetParam', doc='the ElasticNet mixing parameter, in range [0, 1]. For alpha = 0, the penalty is an L2 penalty. For alpha = 1, it is an L1 penalty.'): 0.2},\n",
       "  {Param(parent='LogisticRegression_34e71a7cd7bf', name='maxIter', doc='max number of iterations (>= 0).'): 5,\n",
       "   Param(parent='LogisticRegression_34e71a7cd7bf', name='regParam', doc='regularization parameter (>= 0).'): 0.0001,\n",
       "   Param(parent='LogisticRegression_34e71a7cd7bf', name='elasticNetParam', doc='the ElasticNet mixing parameter, in range [0, 1]. For alpha = 0, the penalty is an L2 penalty. For alpha = 1, it is an L1 penalty.'): 0.3},\n",
       "  {Param(parent='LogisticRegression_34e71a7cd7bf', name='maxIter', doc='max number of iterations (>= 0).'): 5,\n",
       "   Param(parent='LogisticRegression_34e71a7cd7bf', name='regParam', doc='regularization parameter (>= 0).'): 0.0001,\n",
       "   Param(parent='LogisticRegression_34e71a7cd7bf', name='elasticNetParam', doc='the ElasticNet mixing parameter, in range [0, 1]. For alpha = 0, the penalty is an L2 penalty. For alpha = 1, it is an L1 penalty.'): 0.4},\n",
       "  {Param(parent='LogisticRegression_34e71a7cd7bf', name='maxIter', doc='max number of iterations (>= 0).'): 5,\n",
       "   Param(parent='LogisticRegression_34e71a7cd7bf', name='regParam', doc='regularization parameter (>= 0).'): 0.001,\n",
       "   Param(parent='LogisticRegression_34e71a7cd7bf', name='elasticNetParam', doc='the ElasticNet mixing parameter, in range [0, 1]. For alpha = 0, the penalty is an L2 penalty. For alpha = 1, it is an L1 penalty.'): 0.2},\n",
       "  {Param(parent='LogisticRegression_34e71a7cd7bf', name='maxIter', doc='max number of iterations (>= 0).'): 5,\n",
       "   Param(parent='LogisticRegression_34e71a7cd7bf', name='regParam', doc='regularization parameter (>= 0).'): 0.001,\n",
       "   Param(parent='LogisticRegression_34e71a7cd7bf', name='elasticNetParam', doc='the ElasticNet mixing parameter, in range [0, 1]. For alpha = 0, the penalty is an L2 penalty. For alpha = 1, it is an L1 penalty.'): 0.3},\n",
       "  {Param(parent='LogisticRegression_34e71a7cd7bf', name='maxIter', doc='max number of iterations (>= 0).'): 5,\n",
       "   Param(parent='LogisticRegression_34e71a7cd7bf', name='regParam', doc='regularization parameter (>= 0).'): 0.001,\n",
       "   Param(parent='LogisticRegression_34e71a7cd7bf', name='elasticNetParam', doc='the ElasticNet mixing parameter, in range [0, 1]. For alpha = 0, the penalty is an L2 penalty. For alpha = 1, it is an L1 penalty.'): 0.4},\n",
       "  {Param(parent='LogisticRegression_34e71a7cd7bf', name='maxIter', doc='max number of iterations (>= 0).'): 5,\n",
       "   Param(parent='LogisticRegression_34e71a7cd7bf', name='regParam', doc='regularization parameter (>= 0).'): 0.0005,\n",
       "   Param(parent='LogisticRegression_34e71a7cd7bf', name='elasticNetParam', doc='the ElasticNet mixing parameter, in range [0, 1]. For alpha = 0, the penalty is an L2 penalty. For alpha = 1, it is an L1 penalty.'): 0.2},\n",
       "  {Param(parent='LogisticRegression_34e71a7cd7bf', name='maxIter', doc='max number of iterations (>= 0).'): 5,\n",
       "   Param(parent='LogisticRegression_34e71a7cd7bf', name='regParam', doc='regularization parameter (>= 0).'): 0.0005,\n",
       "   Param(parent='LogisticRegression_34e71a7cd7bf', name='elasticNetParam', doc='the ElasticNet mixing parameter, in range [0, 1]. For alpha = 0, the penalty is an L2 penalty. For alpha = 1, it is an L1 penalty.'): 0.3},\n",
       "  {Param(parent='LogisticRegression_34e71a7cd7bf', name='maxIter', doc='max number of iterations (>= 0).'): 5,\n",
       "   Param(parent='LogisticRegression_34e71a7cd7bf', name='regParam', doc='regularization parameter (>= 0).'): 0.0005,\n",
       "   Param(parent='LogisticRegression_34e71a7cd7bf', name='elasticNetParam', doc='the ElasticNet mixing parameter, in range [0, 1]. For alpha = 0, the penalty is an L2 penalty. For alpha = 1, it is an L1 penalty.'): 0.4},\n",
       "  {Param(parent='LogisticRegression_34e71a7cd7bf', name='maxIter', doc='max number of iterations (>= 0).'): 10,\n",
       "   Param(parent='LogisticRegression_34e71a7cd7bf', name='regParam', doc='regularization parameter (>= 0).'): 0.0001,\n",
       "   Param(parent='LogisticRegression_34e71a7cd7bf', name='elasticNetParam', doc='the ElasticNet mixing parameter, in range [0, 1]. For alpha = 0, the penalty is an L2 penalty. For alpha = 1, it is an L1 penalty.'): 0.2},\n",
       "  {Param(parent='LogisticRegression_34e71a7cd7bf', name='maxIter', doc='max number of iterations (>= 0).'): 10,\n",
       "   Param(parent='LogisticRegression_34e71a7cd7bf', name='regParam', doc='regularization parameter (>= 0).'): 0.0001,\n",
       "   Param(parent='LogisticRegression_34e71a7cd7bf', name='elasticNetParam', doc='the ElasticNet mixing parameter, in range [0, 1]. For alpha = 0, the penalty is an L2 penalty. For alpha = 1, it is an L1 penalty.'): 0.3},\n",
       "  {Param(parent='LogisticRegression_34e71a7cd7bf', name='maxIter', doc='max number of iterations (>= 0).'): 10,\n",
       "   Param(parent='LogisticRegression_34e71a7cd7bf', name='regParam', doc='regularization parameter (>= 0).'): 0.0001,\n",
       "   Param(parent='LogisticRegression_34e71a7cd7bf', name='elasticNetParam', doc='the ElasticNet mixing parameter, in range [0, 1]. For alpha = 0, the penalty is an L2 penalty. For alpha = 1, it is an L1 penalty.'): 0.4},\n",
       "  {Param(parent='LogisticRegression_34e71a7cd7bf', name='maxIter', doc='max number of iterations (>= 0).'): 10,\n",
       "   Param(parent='LogisticRegression_34e71a7cd7bf', name='regParam', doc='regularization parameter (>= 0).'): 0.001,\n",
       "   Param(parent='LogisticRegression_34e71a7cd7bf', name='elasticNetParam', doc='the ElasticNet mixing parameter, in range [0, 1]. For alpha = 0, the penalty is an L2 penalty. For alpha = 1, it is an L1 penalty.'): 0.2},\n",
       "  {Param(parent='LogisticRegression_34e71a7cd7bf', name='maxIter', doc='max number of iterations (>= 0).'): 10,\n",
       "   Param(parent='LogisticRegression_34e71a7cd7bf', name='regParam', doc='regularization parameter (>= 0).'): 0.001,\n",
       "   Param(parent='LogisticRegression_34e71a7cd7bf', name='elasticNetParam', doc='the ElasticNet mixing parameter, in range [0, 1]. For alpha = 0, the penalty is an L2 penalty. For alpha = 1, it is an L1 penalty.'): 0.3},\n",
       "  {Param(parent='LogisticRegression_34e71a7cd7bf', name='maxIter', doc='max number of iterations (>= 0).'): 10,\n",
       "   Param(parent='LogisticRegression_34e71a7cd7bf', name='regParam', doc='regularization parameter (>= 0).'): 0.001,\n",
       "   Param(parent='LogisticRegression_34e71a7cd7bf', name='elasticNetParam', doc='the ElasticNet mixing parameter, in range [0, 1]. For alpha = 0, the penalty is an L2 penalty. For alpha = 1, it is an L1 penalty.'): 0.4},\n",
       "  {Param(parent='LogisticRegression_34e71a7cd7bf', name='maxIter', doc='max number of iterations (>= 0).'): 10,\n",
       "   Param(parent='LogisticRegression_34e71a7cd7bf', name='regParam', doc='regularization parameter (>= 0).'): 0.0005,\n",
       "   Param(parent='LogisticRegression_34e71a7cd7bf', name='elasticNetParam', doc='the ElasticNet mixing parameter, in range [0, 1]. For alpha = 0, the penalty is an L2 penalty. For alpha = 1, it is an L1 penalty.'): 0.2},\n",
       "  {Param(parent='LogisticRegression_34e71a7cd7bf', name='maxIter', doc='max number of iterations (>= 0).'): 10,\n",
       "   Param(parent='LogisticRegression_34e71a7cd7bf', name='regParam', doc='regularization parameter (>= 0).'): 0.0005,\n",
       "   Param(parent='LogisticRegression_34e71a7cd7bf', name='elasticNetParam', doc='the ElasticNet mixing parameter, in range [0, 1]. For alpha = 0, the penalty is an L2 penalty. For alpha = 1, it is an L1 penalty.'): 0.3},\n",
       "  {Param(parent='LogisticRegression_34e71a7cd7bf', name='maxIter', doc='max number of iterations (>= 0).'): 10,\n",
       "   Param(parent='LogisticRegression_34e71a7cd7bf', name='regParam', doc='regularization parameter (>= 0).'): 0.0005,\n",
       "   Param(parent='LogisticRegression_34e71a7cd7bf', name='elasticNetParam', doc='the ElasticNet mixing parameter, in range [0, 1]. For alpha = 0, the penalty is an L2 penalty. For alpha = 1, it is an L1 penalty.'): 0.4},\n",
       "  {Param(parent='LogisticRegression_34e71a7cd7bf', name='maxIter', doc='max number of iterations (>= 0).'): 15,\n",
       "   Param(parent='LogisticRegression_34e71a7cd7bf', name='regParam', doc='regularization parameter (>= 0).'): 0.0001,\n",
       "   Param(parent='LogisticRegression_34e71a7cd7bf', name='elasticNetParam', doc='the ElasticNet mixing parameter, in range [0, 1]. For alpha = 0, the penalty is an L2 penalty. For alpha = 1, it is an L1 penalty.'): 0.2},\n",
       "  {Param(parent='LogisticRegression_34e71a7cd7bf', name='maxIter', doc='max number of iterations (>= 0).'): 15,\n",
       "   Param(parent='LogisticRegression_34e71a7cd7bf', name='regParam', doc='regularization parameter (>= 0).'): 0.0001,\n",
       "   Param(parent='LogisticRegression_34e71a7cd7bf', name='elasticNetParam', doc='the ElasticNet mixing parameter, in range [0, 1]. For alpha = 0, the penalty is an L2 penalty. For alpha = 1, it is an L1 penalty.'): 0.3},\n",
       "  {Param(parent='LogisticRegression_34e71a7cd7bf', name='maxIter', doc='max number of iterations (>= 0).'): 15,\n",
       "   Param(parent='LogisticRegression_34e71a7cd7bf', name='regParam', doc='regularization parameter (>= 0).'): 0.0001,\n",
       "   Param(parent='LogisticRegression_34e71a7cd7bf', name='elasticNetParam', doc='the ElasticNet mixing parameter, in range [0, 1]. For alpha = 0, the penalty is an L2 penalty. For alpha = 1, it is an L1 penalty.'): 0.4},\n",
       "  {Param(parent='LogisticRegression_34e71a7cd7bf', name='maxIter', doc='max number of iterations (>= 0).'): 15,\n",
       "   Param(parent='LogisticRegression_34e71a7cd7bf', name='regParam', doc='regularization parameter (>= 0).'): 0.001,\n",
       "   Param(parent='LogisticRegression_34e71a7cd7bf', name='elasticNetParam', doc='the ElasticNet mixing parameter, in range [0, 1]. For alpha = 0, the penalty is an L2 penalty. For alpha = 1, it is an L1 penalty.'): 0.2},\n",
       "  {Param(parent='LogisticRegression_34e71a7cd7bf', name='maxIter', doc='max number of iterations (>= 0).'): 15,\n",
       "   Param(parent='LogisticRegression_34e71a7cd7bf', name='regParam', doc='regularization parameter (>= 0).'): 0.001,\n",
       "   Param(parent='LogisticRegression_34e71a7cd7bf', name='elasticNetParam', doc='the ElasticNet mixing parameter, in range [0, 1]. For alpha = 0, the penalty is an L2 penalty. For alpha = 1, it is an L1 penalty.'): 0.3},\n",
       "  {Param(parent='LogisticRegression_34e71a7cd7bf', name='maxIter', doc='max number of iterations (>= 0).'): 15,\n",
       "   Param(parent='LogisticRegression_34e71a7cd7bf', name='regParam', doc='regularization parameter (>= 0).'): 0.001,\n",
       "   Param(parent='LogisticRegression_34e71a7cd7bf', name='elasticNetParam', doc='the ElasticNet mixing parameter, in range [0, 1]. For alpha = 0, the penalty is an L2 penalty. For alpha = 1, it is an L1 penalty.'): 0.4},\n",
       "  {Param(parent='LogisticRegression_34e71a7cd7bf', name='maxIter', doc='max number of iterations (>= 0).'): 15,\n",
       "   Param(parent='LogisticRegression_34e71a7cd7bf', name='regParam', doc='regularization parameter (>= 0).'): 0.0005,\n",
       "   Param(parent='LogisticRegression_34e71a7cd7bf', name='elasticNetParam', doc='the ElasticNet mixing parameter, in range [0, 1]. For alpha = 0, the penalty is an L2 penalty. For alpha = 1, it is an L1 penalty.'): 0.2},\n",
       "  {Param(parent='LogisticRegression_34e71a7cd7bf', name='maxIter', doc='max number of iterations (>= 0).'): 15,\n",
       "   Param(parent='LogisticRegression_34e71a7cd7bf', name='regParam', doc='regularization parameter (>= 0).'): 0.0005,\n",
       "   Param(parent='LogisticRegression_34e71a7cd7bf', name='elasticNetParam', doc='the ElasticNet mixing parameter, in range [0, 1]. For alpha = 0, the penalty is an L2 penalty. For alpha = 1, it is an L1 penalty.'): 0.3},\n",
       "  {Param(parent='LogisticRegression_34e71a7cd7bf', name='maxIter', doc='max number of iterations (>= 0).'): 15,\n",
       "   Param(parent='LogisticRegression_34e71a7cd7bf', name='regParam', doc='regularization parameter (>= 0).'): 0.0005,\n",
       "   Param(parent='LogisticRegression_34e71a7cd7bf', name='elasticNetParam', doc='the ElasticNet mixing parameter, in range [0, 1]. For alpha = 0, the penalty is an L2 penalty. For alpha = 1, it is an L1 penalty.'): 0.4}],\n",
       " Param(parent='TrainValidationSplitModel_72e0bb3e2657', name='evaluator', doc='evaluator used to select hyper-parameters that maximize the validator metric'): BinaryClassificationEvaluator_7518c2f6664f}"
      ]
     },
     "execution_count": 57,
     "metadata": {},
     "output_type": "execute_result"
    }
   ],
   "source": [
    "model.extractParamMap()"
   ]
  },
  {
   "cell_type": "code",
   "execution_count": 58,
   "metadata": {},
   "outputs": [
    {
     "name": "stdout",
     "output_type": "stream",
     "text": [
      "Collecting emoji\n",
      "\u001b[?25l  Downloading https://files.pythonhosted.org/packages/40/8d/521be7f0091fe0f2ae690cc044faf43e3445e0ff33c574eae752dd7e39fa/emoji-0.5.4.tar.gz (43kB)\n",
      "\u001b[K     |████████████████████████████████| 51kB 906kB/s eta 0:00:01\n",
      "\u001b[?25hBuilding wheels for collected packages: emoji\n",
      "  Building wheel for emoji (setup.py) ... \u001b[?25ldone\n",
      "\u001b[?25h  Stored in directory: /Users/carolinaabs/Library/Caches/pip/wheels/2a/a9/0a/4f8e8cce8074232aba240caca3fade315bb49fac68808d1a9c\n",
      "Successfully built emoji\n",
      "Installing collected packages: emoji\n",
      "Successfully installed emoji-0.5.4\n"
     ]
    }
   ],
   "source": [
    "!pip install emoji --upgrade"
   ]
  },
  {
   "cell_type": "code",
   "execution_count": 59,
   "metadata": {},
   "outputs": [
    {
     "name": "stdout",
     "output_type": "stream",
     "text": [
      " 🏆 The winner parameters are: maxIter = 10 regParam = 0.001 elasticNetParam = 0.3 !!!! 🏆 \n"
     ]
    }
   ],
   "source": [
    "import emoji\n",
    "print(emoji.emojize(' :trophy: The winner parameters are: maxIter = 10 regParam = 0.001 elasticNetParam = 0.3 !!!! :trophy: '))"
   ]
  },
  {
   "cell_type": "code",
   "execution_count": 60,
   "metadata": {},
   "outputs": [],
   "source": [
    "pre_processed_test_data = spark.read.parquet(os.path.join(DATA_DIR, 'test.parquet'))"
   ]
  },
  {
   "cell_type": "code",
   "execution_count": 100,
   "metadata": {},
   "outputs": [],
   "source": [
    "def logistic_regression_classifier(training_df, testing_df):\n",
    "    \"\"\"\n",
    "    Apply Logistic Regression Classifier to test data for predicting sentiment of Tweets.\n",
    "    :param training_df: Trained labelled data\n",
    "    :param testing_df: Test data\n",
    "    :return: transformed dataframe of predicted labels for tweets\n",
    "    \"\"\"\n",
    "    lor = LogisticRegression(regParam = 0.001, maxIter = 10, elasticNetParam = 0.3)\n",
    "    model = lor.fit(training_df.drop('features').withColumnRenamed('count_vect', 'features'))\n",
    "    return model.transform(testing_df.drop('features').withColumnRenamed('count_vect', 'features')), model.summary"
   ]
  },
  {
   "cell_type": "code",
   "execution_count": 101,
   "metadata": {},
   "outputs": [],
   "source": [
    "result_lr, summary = logistic_regression_classifier(pre_processed_train_data, pre_processed_test_data)"
   ]
  },
  {
   "cell_type": "code",
   "execution_count": 81,
   "metadata": {},
   "outputs": [],
   "source": [
    "import pandas as pd\n",
    "\n",
    "def confusion_matrix(result_df):\n",
    "    \"\"\"\n",
    "    Generate Confusion Matrix for showing the performance of algorithm.\n",
    "    :param result_df: Dataframe returned from the model\n",
    "    :return: pandas dataframe\n",
    "    \"\"\"\n",
    "    true_positives = result_df.filter((result_df.label == 1.0) & (result_df.prediction == 1.0)).count()\n",
    "    true_negatives = result_df.filter((result_df.label == 0.0) & (result_df.prediction == 0.0)).count()\n",
    "    false_positives = result_df.filter((result_df.label == 0.0) & (result_df.prediction == 1.0)).count()\n",
    "    false_negatives = result_df.filter((result_df.label == 1.0) & (result_df.prediction == 0.0)).count()\n",
    "\n",
    "    matrix = {\"Positive\": pd.Series([true_positives, false_positives], index=[\"Positive\", \"Negative\"]),\n",
    "              \"Negative\": pd.Series([false_negatives, true_negatives], index=[\"Positive\", \"Negative\"])}\n",
    "\n",
    "    df = pd.DataFrame(matrix)\n",
    "    df.columns.name = \"Actual / Predicted\"\n",
    "    return df"
   ]
  },
  {
   "cell_type": "markdown",
   "metadata": {},
   "source": [
    "# Metrics"
   ]
  },
  {
   "cell_type": "code",
   "execution_count": 82,
   "metadata": {},
   "outputs": [
    {
     "data": {
      "text/html": [
       "<div>\n",
       "<style scoped>\n",
       "    .dataframe tbody tr th:only-of-type {\n",
       "        vertical-align: middle;\n",
       "    }\n",
       "\n",
       "    .dataframe tbody tr th {\n",
       "        vertical-align: top;\n",
       "    }\n",
       "\n",
       "    .dataframe thead th {\n",
       "        text-align: right;\n",
       "    }\n",
       "</style>\n",
       "<table border=\"1\" class=\"dataframe\">\n",
       "  <thead>\n",
       "    <tr style=\"text-align: right;\">\n",
       "      <th>Actual / Predicted</th>\n",
       "      <th>Positive</th>\n",
       "      <th>Negative</th>\n",
       "    </tr>\n",
       "  </thead>\n",
       "  <tbody>\n",
       "    <tr>\n",
       "      <th>Positive</th>\n",
       "      <td>204013</td>\n",
       "      <td>36138</td>\n",
       "    </tr>\n",
       "    <tr>\n",
       "      <th>Negative</th>\n",
       "      <td>107265</td>\n",
       "      <td>132456</td>\n",
       "    </tr>\n",
       "  </tbody>\n",
       "</table>\n",
       "</div>"
      ],
      "text/plain": [
       "Actual / Predicted  Positive  Negative\n",
       "Positive              204013     36138\n",
       "Negative              107265    132456"
      ]
     },
     "execution_count": 82,
     "metadata": {},
     "output_type": "execute_result"
    }
   ],
   "source": [
    "confusion_matrix(result_lr)"
   ]
  },
  {
   "cell_type": "code",
   "execution_count": 73,
   "metadata": {},
   "outputs": [],
   "source": [
    "def calculate_accuracy(result_df):\n",
    "    \"\"\"\n",
    "    Calculate accuracy of model against actual data.\n",
    "    :param result_df: Dataframe returned from the model\n",
    "    :return: accuracy between 0 and 1\n",
    "    \"\"\"\n",
    "    return 1.0 * result_df.filter(result_df.label == result_df.prediction).count() / result_df.count()"
   ]
  },
  {
   "cell_type": "code",
   "execution_count": 74,
   "metadata": {},
   "outputs": [
    {
     "data": {
      "text/plain": [
       "0.701164060416111"
      ]
     },
     "execution_count": 74,
     "metadata": {},
     "output_type": "execute_result"
    }
   ],
   "source": [
    "calculate_accuracy(result_lr)"
   ]
  },
  {
   "cell_type": "code",
   "execution_count": 83,
   "metadata": {},
   "outputs": [
    {
     "data": {
      "text/plain": [
       "0.788047461328519"
      ]
     },
     "execution_count": 83,
     "metadata": {},
     "output_type": "execute_result"
    }
   ],
   "source": [
    "roc = summary.roc.toPandas()\n",
    "plt.plot(roc['FPR'],roc['TPR'])\n",
    "plt.ylabel('False Positive Rate')\n",
    "plt.xlabel('True Positive Rate')\n",
    "plt.title('ROC Curve')\n",
    "plt.show()\n",
    "print('Training set areaUnderROC: ' + str(summary.areaUnderROC))"
   ]
  },
  {
   "cell_type": "code",
   "execution_count": 88,
   "metadata": {},
   "outputs": [
    {
     "data": {
      "image/png": "[encoded data removed]",
      "text/plain": [
       "<Figure size 432x288 with 1 Axes>"
      ]
     },
     "metadata": {
      "needs_background": "light"
     },
     "output_type": "display_data"
    }
   ],
   "source": [
    "import matplotlib.pyplot as plt\n",
    "\n",
    "pr = summary.pr.toPandas()\n",
    "plt.plot(pr['recall'],pr['precision'])\n",
    "plt.ylabel('Precision')\n",
    "plt.xlabel('Recall')\n",
    "plt.show()"
   ]
  },
  {
   "cell_type": "markdown",
   "metadata": {},
   "source": [
    "**1. Model optimization**\n",
    "* If we imagine that we are designing this model for use in a company application, we know that the company does *not* want positive reviews to be categorized as negative. That is, we want to have as few **false positives** as possible. \n",
    "* On the other hand, if our manager <img src='notebook_ims/manager.jpg' width=8% /> asks for an application that will catch almost *all* cases of negative reviews, even if it means a higher number of false positives, then we'd want as few **false negatives** as possible.\n",
    "* To train according to specific product demands and goals, we do not want to optimize for accuracy only. Instead, we want to optimize for a metric that can help us decrease the number of false positives or negatives. \n",
    "\n",
    "<img src='notebook_ims/precision_recall.png' width=40% />\n",
    "     \n",
    "\n",
    "**2. Imbalanced training data**\n",
    "* At the start of this notebook, we saw that about 10 % of the data was labeled as false negatives. So, even if a model labels **all** of our data as valid, it will still have a poor accuracy. \n",
    "* This may result in some overfitting towards valid data, which accounts for some **false negatives**; cases in which negative reviews (0) are incorrectly characterized as positive (1).\n",
    "\n",
    "So, let's address these issues in order; first, tuning our model and optimizing for a specific metric during training, and second, accounting for class imbalance in the training set. \n",
    "\n",
    "**Scenario:**\n",
    "* A company has asked you to build a model that detects cases of positive reviews with an accuracy of about 85%. \n",
    "\n",
    "In this case, we want to build a model that has as many true positives and as few false negatives, as possible. This corresponds to a model with a high **recall**: true positives / (true positives + false negatives). \n",
    "\n",
    "HOW TO DO IT USING SPARK?\n",
    "\n",
    "I will assume that performance on a training set will be within about 5% of the performance on a test set. So, for a recall of about 85%, I'll aim for a bit higher, 90%."
   ]
  }
 ],
 "metadata": {
  "kernelspec": {
   "display_name": "Python 3",
   "language": "python",
   "name": "python3"
  },
  "language_info": {
   "codemirror_mode": {
    "name": "ipython",
    "version": 3
   },
   "file_extension": ".py",
   "mimetype": "text/x-python",
   "name": "python",
   "nbconvert_exporter": "python",
   "pygments_lexer": "ipython3",
   "version": "3.6.8"
  }
 },
 "nbformat": 4,
 "nbformat_minor": 4
}
